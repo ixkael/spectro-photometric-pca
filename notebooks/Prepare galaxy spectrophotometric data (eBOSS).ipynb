{
 "cells": [
  {
   "cell_type": "code",
   "execution_count": 1,
   "metadata": {},
   "outputs": [],
   "source": [
    "%matplotlib inline\n",
    "import matplotlib.pyplot as plt\n",
    "import numpy as np\n",
    "from astropy.table import Table\n",
    "from  astropy.table import join\n",
    "import pandas as pd\n",
    "\n",
    "from matplotlib import rc\n",
    "font = {'family':'serif', 'serif': ['computer modern roman']}\n",
    "plt.rc('font',**font)\n",
    "rc('text', usetex=True)\n",
    "\n",
    "home = '/home/'"
   ]
  },
  {
   "cell_type": "code",
   "execution_count": 2,
   "metadata": {},
   "outputs": [],
   "source": [
    "import sys\n",
    "import os\n",
    "\n",
    "module_path = os.path.abspath(os.path.join(os.pardir, os.pardir))\n",
    "if module_path not in sys.path:\n",
    "    sys.path.append(module_path)"
   ]
  },
  {
   "cell_type": "code",
   "execution_count": 3,
   "metadata": {},
   "outputs": [],
   "source": [
    "%load_ext autoreload\n",
    "%autoreload 2"
   ]
  },
  {
   "cell_type": "code",
   "execution_count": 4,
   "metadata": {},
   "outputs": [],
   "source": [
    "from spectrophotometricpca.dataprep import *\n",
    "\n",
    "%aimport spectrophotometricpca"
   ]
  },
  {
   "cell_type": "code",
   "execution_count": 5,
   "metadata": {},
   "outputs": [],
   "source": [
    "from gasp.photoz import *\n",
    "from gasp.stats import *\n",
    "\n",
    "%aimport gasp\n",
    "%aimport gasp"
   ]
  },
  {
   "cell_type": "code",
   "execution_count": null,
   "metadata": {},
   "outputs": [],
   "source": []
  },
  {
   "cell_type": "code",
   "execution_count": 6,
   "metadata": {},
   "outputs": [
    {
     "name": "stderr",
     "output_type": "stream",
     "text": [
      "WARNING: UnitsWarning: 'erg/s/cm2' contains multiple slashes, which is discouraged by the FITS standard [astropy.units.format.generic]\n"
     ]
    },
    {
     "name": "stdout",
     "output_type": "stream",
     "text": [
      "Only keeping 252818 out of 269178\n",
      "252818 ELG objects\n",
      " ['RA' 'DEC' 'Z' 'WEIGHT_SYSTOT' 'WEIGHT_CP' 'WEIGHT_NOZ' 'NZ' 'WEIGHT_FKP'\n",
      " 'sector_TSR' 'COMP_BOSS' 'plate_MJD_SSR' 'sector_SSR' 'chunk' 'plate'\n",
      " 'tile' 'MJD' 'sector' 'ELG_sector' 'sector_area' 'sector_ntiles'\n",
      " 'sector_tiles' 'INGROUP' 'ELG_INGROUP' 'MULTGROUP' 'EBOSS_TARGET1'\n",
      " 'BOSSTILE_STATUS' 'TRIMMED' 'brickname' 'decals_objid' 'decals_uniqid'\n",
      " 'decals_dr' 'type' 'nobs_g' 'nobs_r' 'nobs_z' 'psfdepth_g' 'psfdepth_r'\n",
      " 'psfdepth_z' 'galdepth_g' 'galdepth_r' 'galdepth_z' 'psfsize_g'\n",
      " 'psfsize_r' 'psfsize_z' 'g' 'gr' 'rz' 'rw1' 'rw2' 'IMATCH'\n",
      " 'EBOSS_TARGET_ID' 'hasfiber' 'FIBERID' 'CARTID' 'XFOCAL' 'YFOCAL'\n",
      " 'plate_rSN2' 'SPEC1_G' 'SPEC1_R' 'SPEC1_I' 'SPEC2_G' 'SPEC2_R' 'SPEC2_I'\n",
      " 'SN_MEDIAN' 'SN_MEDIAN_ALL' 'plate_MJD_SN_MEDIAN_ALL' 'Z_zQ' 'Z_zCont'\n",
      " 'Z_ok' 'CHI2' 'DELTACHI2' 'COEFF' 'ZERR' 'ZWARN' 'NPIXELS' 'SPECTYPE'\n",
      " 'SUBTYPE' 'NCOEFF' 'Z_O2_3728_flux' 'Z_O2_3728_fluxErr' 'fast_id'\n",
      " 'fast_lmass' 'mskbit' 'comb_galdepth' 'chunk_z' 'PLATE']\n",
      "Only keeping 227312 out of 311848\n",
      "227312 LRG objects\n",
      " ['RUN' 'CAMCOL' 'FIELD' 'ID' 'RERUN' 'FIBER2MAG' 'RA' 'DEC' 'PSFFLUX'\n",
      " 'PSFFLUX_IVAR' 'EXTINCTION' 'FIBER2FLUX' 'FIBER2FLUX_IVAR' 'MODELFLUX'\n",
      " 'MODELFLUX_IVAR' 'MODELMAG' 'W1_MAG' 'W1_MAG_ERR' 'W1_NANOMAGGIES'\n",
      " 'W1_NANOMAGGIES_IVAR' 'W2_NANOMAGGIES' 'W2_NANOMAGGIES_IVAR'\n",
      " 'OBJID_TARGETING' 'CHUNK' 'TILE' 'LOCATIONID' 'NTILES' 'BOSSTILE_STATUS'\n",
      " 'TRIMMED' 'IDUPLICATE' 'IGEOMETRY' 'INGROUP' 'FIRSTGROUP' 'MULTGROUP'\n",
      " 'NEXTGROUP' 'SECTOR' 'LRG_ID' 'IMATCH' 'CHUNKspec' 'PLATESN2' 'XFOCAL'\n",
      " 'YFOCAL' 'BOSS_TARGET1' 'PLATE' 'TILEspec' 'MJD' 'FIBERID' 'CLASS' 'Z'\n",
      " 'ZWARNING' 'SN_MEDIAN_ALL' 'SPEC1_G' 'SPEC1_R' 'SPEC1_I' 'SPEC2_G'\n",
      " 'SPEC2_R' 'SPEC2_I' 'TARGETID' 'CHI2' 'COEFF' 'Z_REDROCK' 'ZERR'\n",
      " 'ZWARNING_REDROCK' 'NPIXELS' 'CLASS_REDROCK' 'SUBTYPE' 'NCOEFF'\n",
      " 'DELTACHI2' 'sector_SSR' 'WEIGHT_CP' 'sector_TSR' 'COMP_BOSS']\n"
     ]
    }
   ],
   "source": [
    "# https://www.sdss.org/dr16/spectro/lss/\n",
    "\n",
    "data_elg = Table.read('/home/bl/Astrodata/eBOSScatalogs/eBOSS_ELG_full_ALLdata-vDR16.fits').filled()\n",
    "data_elg['PLATE'] = data_elg['plate']\n",
    "\n",
    "ind = data_elg['MJD'] > 0\n",
    "ind &= data_elg['Z'] > 0\n",
    "print('Only keeping', np.sum(ind), 'out of', ind.size)\n",
    "data_elg = data_elg[ind]\n",
    "\n",
    "print(len(data_elg), 'ELG objects\\n', np.array(data_elg.colnames))\n",
    "\n",
    "data_lrg = Table.read('/home/bl/Astrodata/eBOSScatalogs/eBOSS_LRG_full_ALLdata-vDR16.fits').filled()\n",
    "\n",
    "ind = data_lrg['MJD'] > 0\n",
    "ind &= data_lrg['Z'] > 0\n",
    "print('Only keeping', np.sum(ind), 'out of', ind.size)\n",
    "data_lrg = data_lrg[ind]\n",
    "\n",
    "print(len(data_lrg), 'LRG objects\\n', np.array(data_lrg.colnames))\n",
    "\n",
    "\n",
    "data_elg[['MJD', 'PLATE', 'FIBERID']].write(\n",
    "    '/home/bl/Astrodata/eBOSScatalogs/eBOSS_ELG_full_ALLdata-vDR16_photoIDonly.csv', \n",
    "     overwrite=True, format='ascii.csv', comment='#'\n",
    ")\n",
    "data_lrg[['MJD', 'PLATE', 'FIBERID']].write(\n",
    "    '/home/bl/Astrodata/eBOSScatalogs/eBOSS_LRG_full_ALLdata-vDR16_photoIDonly.csv', \n",
    "     overwrite=True, format='ascii.csv', comment='#'\n",
    ")"
   ]
  },
  {
   "cell_type": "code",
   "execution_count": 7,
   "metadata": {},
   "outputs": [
    {
     "data": {
      "text/plain": [
       "<matplotlib.legend.Legend at 0x7fc3fc88e7f0>"
      ]
     },
     "execution_count": 7,
     "metadata": {},
     "output_type": "execute_result"
    },
    {
     "name": "stderr",
     "output_type": "stream",
     "text": [
      "findfont: Font family ['serif'] not found. Falling back to DejaVu Sans.\n"
     ]
    },
    {
     "data": {
      "image/png": "[encoded data removed]",
      "text/plain": [
       "<Figure size 432x288 with 1 Axes>"
      ]
     },
     "metadata": {
      "needs_background": "light"
     },
     "output_type": "display_data"
    }
   ],
   "source": [
    "plt.hist(data_elg['Z'], histtype='step', lw=2, bins=40, label='ELGs', log=True);\n",
    "plt.hist(data_lrg['Z'], histtype='step', lw=2, bins=40, label='LRGs');\n",
    "plt.legend()"
   ]
  },
  {
   "cell_type": "code",
   "execution_count": 8,
   "metadata": {},
   "outputs": [
    {
     "name": "stdout",
     "output_type": "stream",
     "text": [
      "252818 227312\n"
     ]
    },
    {
     "data": {
      "text/plain": [
       "<matplotlib.legend.Legend at 0x7fc4cc8bfb50>"
      ]
     },
     "execution_count": 8,
     "metadata": {},
     "output_type": "execute_result"
    },
    {
     "data": {
      "image/png": "[encoded data removed]",
      "text/plain": [
       "<Figure size 432x288 with 1 Axes>"
      ]
     },
     "metadata": {
      "needs_background": "light"
     },
     "output_type": "display_data"
    }
   ],
   "source": [
    "numTraining = 50000\n",
    "\n",
    "elg_indices = np.random.choice(len(data_elg), numTraining, replace=False)\n",
    "\n",
    "lrg_indices = np.random.choice(len(data_lrg), numTraining, replace=False)\n",
    "\n",
    "print(len(data_elg), len(data_lrg))\n",
    "\n",
    "plt.hist(data_elg['Z'][elg_indices], histtype='step', lw=2, bins=40, label='ELGs', log=True);\n",
    "plt.hist(data_lrg['Z'][lrg_indices], histtype='step', lw=2, bins=40, label='LRGs');\n",
    "plt.legend()"
   ]
  },
  {
   "cell_type": "code",
   "execution_count": 9,
   "metadata": {},
   "outputs": [],
   "source": [
    "if False: # need to write?\n",
    "    data_elg[['MJD', 'PLATE', 'FIBERID']][elg_indices].write(\n",
    "        '/home/bl/Dropbox/repos/spectro-photometric-pca/data/dr16eboss/elgs_uniftrain_photoIDonly.csv', \n",
    "         overwrite=True, format='ascii.csv', comment='#'\n",
    "    )\n",
    "    data_lrg[['MJD', 'PLATE', 'FIBERID']][lrg_indices].write(\n",
    "        '/home/bl/Dropbox/repos/spectro-photometric-pca/data/dr16eboss/lrgs_uniftrain_photoIDonly.csv', \n",
    "         overwrite=True, format='ascii.csv', comment='#'\n",
    "    )"
   ]
  },
  {
   "cell_type": "code",
   "execution_count": 10,
   "metadata": {},
   "outputs": [
    {
     "data": {
      "text/plain": [
       "57656"
      ]
     },
     "execution_count": 10,
     "metadata": {},
     "output_type": "execute_result"
    }
   ],
   "source": [
    "np.min(data_elg['MJD'])"
   ]
  },
  {
   "cell_type": "code",
   "execution_count": null,
   "metadata": {},
   "outputs": [],
   "source": []
  },
  {
   "cell_type": "markdown",
   "metadata": {},
   "source": [
    "http://skyserver.sdss.org/dr16/en/tools/search/sql.aspx\n",
    "        \n",
    "\n",
    "SELECT prim.bestObjId, plate.programname,\n",
    "    prim.mjd AS PrimMJD, prim.plate AS PrimPlate, prim.fiberID as PrimFiber, prim.z AS PrimZ, \n",
    "    other.mjd AS OtherMJD, other.plate AS OtherPlate, other.fiberID as OtherFiber, other.z AS OtherZ\n",
    "FROM SpecObjAll prim\n",
    "    JOIN SpecObjAll other ON prim.bestObjId = other.bestObjId\n",
    "    JOIN platex AS plate ON other.plate = plate.plate AND other.mjd = plate.mjd\n",
    "WHERE other.bestObjId > 0\n",
    "    AND prim.sciencePrimary = 1\n",
    "    AND other.sciencePrimary = 0\n",
    "    AND prim.instrument = 'BOSS'\n",
    "    AND other.instrument = 'BOSS'\n",
    "    AND prim.class = 'GALAXY'\n",
    "    AND prim.zWarning = 0\n",
    "    AND other.zWarning = 0\n",
    "ORDER BY prim.bestObjId\n"
   ]
  },
  {
   "cell_type": "code",
   "execution_count": 11,
   "metadata": {},
   "outputs": [
    {
     "data": {
      "text/plain": [
       "b'boss'                           101670\n",
       "b'eboss'                           23140\n",
       "b'commissioning'                   11352\n",
       "b'ELG_SGC'                          8723\n",
       "b'ELG_NGC'                          4582\n",
       "b'special_plates_NGC'               3943\n",
       "b'sequels'                          1189\n",
       "b'Orion_Taurus'                      353\n",
       "b'DEEP_QSO'                          277\n",
       "b'special_plates_S82'                 94\n",
       "b'boss_lofar'                         89\n",
       "b'XMMXLL'                             76\n",
       "b'special_elg'                        75\n",
       "b'RM'                                 69\n",
       "b'special_plates_W1'                  34\n",
       "b'special_sky'                        13\n",
       "b'special_plates_W3'                   8\n",
       "b'SEQUELS_ELG'                         8\n",
       "b'special_plates_TDSS_SPIDERS'         3\n",
       "Name: programname, dtype: int64"
      ]
     },
     "execution_count": 11,
     "metadata": {},
     "output_type": "execute_result"
    }
   ],
   "source": [
    "repeatdata = Table.read('/home/bl/Dropbox/repos/spectro-photometric-pca/data/dr16eboss/repeated_spectra_pairs.fits').to_pandas()\n",
    "\n",
    "repeatdata['MJD'] = repeatdata['PrimMJD']\n",
    "repeatdata['PLATE'] = repeatdata['PrimPlate']\n",
    "repeatdata['FIBERID'] = repeatdata['PrimFiber']\n",
    "\n",
    "repeatdata['programname'].value_counts()"
   ]
  },
  {
   "cell_type": "code",
   "execution_count": 12,
   "metadata": {},
   "outputs": [],
   "source": [
    "# Actually keeping all!\n",
    "selected_objects = Table.from_pandas(pd.concat([\n",
    "    pd.DataFrame({\n",
    "        'BESTOBJID': repeatdata['bestObjId'].astype(str), \n",
    "        'Zr': repeatdata['PrimZ'], \n",
    "        'MJD': repeatdata['PrimMJD'], \n",
    "        'PLATE': repeatdata['PrimPlate'], \n",
    "        'FIBER': repeatdata['PrimFiber'],\n",
    "        'IsBest': True\n",
    "    }),\n",
    "    pd.DataFrame({\n",
    "        'BESTOBJID': repeatdata['bestObjId'].astype(str), \n",
    "        'Zr': repeatdata['OtherZ'], \n",
    "        'MJD': repeatdata['OtherMJD'], \n",
    "        'PLATE': repeatdata['OtherPlate'], \n",
    "        'FIBER': repeatdata['OtherFiber'],\n",
    "        'IsBest': False\n",
    "    }) \n",
    "], axis=0))\n",
    "selected_objects.write('/home/bl/Dropbox/repos/spectro-photometric-pca/data/dr16eboss/repeated_flattened.fits', overwrite=True)"
   ]
  },
  {
   "cell_type": "code",
   "execution_count": 13,
   "metadata": {},
   "outputs": [],
   "source": [
    "repeatdata = Table.from_pandas(repeatdata)"
   ]
  },
  {
   "cell_type": "code",
   "execution_count": 14,
   "metadata": {},
   "outputs": [
    {
     "name": "stdout",
     "output_type": "stream",
     "text": [
      "-6504.4346 80307.87\n",
      "-0.06511941 51.720867\n"
     ]
    },
    {
     "data": {
      "text/plain": [
       "[<matplotlib.lines.Line2D at 0x7fc4cc21e820>]"
      ]
     },
     "execution_count": 14,
     "metadata": {},
     "output_type": "execute_result"
    },
    {
     "data": {
      "image/png": "[encoded data removed]",
      "text/plain": [
       "<Figure size 432x288 with 1 Axes>"
      ]
     },
     "metadata": {
      "needs_background": "light"
     },
     "output_type": "display_data"
    }
   ],
   "source": [
    "dv = (repeatdata['PrimZ'] - repeatdata['OtherZ']) * 3e5 / (1 + repeatdata['PrimZ'])\n",
    "x = np.linspace(-5e2, 5e2, 100)\n",
    "from scipy.stats import norm\n",
    "ind = np.abs(dv) < 500\n",
    "print(np.mean(dv), np.std(dv))\n",
    "print(np.mean(dv[ind]), np.std(dv[ind]))\n",
    "y = norm.pdf(x, loc=np.mean(dv[ind]), scale=np.std(dv[ind]))\n",
    "plt.hist(dv[ind], range=[-5e2, 5e2], bins=100, log=False, density=True);\n",
    "plt.plot(x, y)"
   ]
  },
  {
   "cell_type": "code",
   "execution_count": null,
   "metadata": {},
   "outputs": [],
   "source": []
  },
  {
   "cell_type": "code",
   "execution_count": null,
   "metadata": {},
   "outputs": [],
   "source": []
  },
  {
   "cell_type": "code",
   "execution_count": null,
   "metadata": {},
   "outputs": [],
   "source": []
  },
  {
   "cell_type": "code",
   "execution_count": null,
   "metadata": {},
   "outputs": [],
   "source": []
  },
  {
   "cell_type": "code",
   "execution_count": null,
   "metadata": {},
   "outputs": [],
   "source": []
  },
  {
   "cell_type": "code",
   "execution_count": 15,
   "metadata": {},
   "outputs": [
    {
     "name": "stderr",
     "output_type": "stream",
     "text": [
      "WARNING: OverflowError converting to IntType in column specObjID, reverting to String. [astropy.io.ascii.fastbasic]\n",
      "WARNING: OverflowError converting to IntType in column plateID, reverting to String. [astropy.io.ascii.fastbasic]\n"
     ]
    },
    {
     "name": "stdout",
     "output_type": "stream",
     "text": [
      "255039 251312 ELG objects out of 227312\n",
      "241647 227312 LRG objects out of 227312\n"
     ]
    }
   ],
   "source": [
    "\n",
    "data_elg_p = Table.read('/home/bl/Dropbox/repos/spectro-photometric-pca/data/dr16eboss/SpecPhotoAll_ELGs.csv')\n",
    "data_elg_p['PLATE'] = data_elg_p['plate']\n",
    "data_elg_p['FIBERID'] = data_elg_p['fiberID']\n",
    "data_elg_p['MJD'] = data_elg_p['mjd']\n",
    "data_elg_sp = join(data_elg_p, data_elg, keys=['MJD', 'PLATE', 'FIBERID'])\n",
    "\n",
    "print(len(data_elg_p), len(data_elg_sp), 'ELG objects out of', len(data_lrg))\n",
    "del data_elg_sp\n",
    "\n",
    "data_lrg_p = Table.read('/home/bl/Dropbox/repos/spectro-photometric-pca/data/dr16eboss/SpecPhotoAll_LRGs.csv')\n",
    "data_lrg_p['PLATE'] = data_lrg_p['plate']\n",
    "data_lrg_p['FIBERID'] = data_lrg_p['fiberID']\n",
    "data_lrg_p['MJD'] = data_lrg_p['mjd']\n",
    "data_lrg_sp = join(data_lrg_p, data_lrg, keys=['MJD', 'PLATE', 'FIBERID'])\n",
    "\n",
    "print(len(data_lrg_p), len(data_lrg_sp), 'LRG objects out of', len(data_lrg))\n",
    "del data_lrg_sp"
   ]
  },
  {
   "cell_type": "code",
   "execution_count": 16,
   "metadata": {},
   "outputs": [],
   "source": [
    "# check which IDS to use and fetch data directly from Photo table"
   ]
  },
  {
   "cell_type": "code",
   "execution_count": 17,
   "metadata": {},
   "outputs": [
    {
     "name": "stdout",
     "output_type": "stream",
     "text": [
      "291852 repeated objects\n",
      " ['BESTOBJID' 'Zr' 'MJD' 'PLATE' 'FIBER' 'IsBest' 'OBJID_TARGETING'\n",
      " 'FIBERID']\n"
     ]
    }
   ],
   "source": [
    "from astropy.table import unique\n",
    "selected_objects = unique(Table.read('/home/bl/Dropbox/repos/spectro-photometric-pca/data/dr16eboss/repeated_flattened.fits'))\n",
    "selected_objects['OBJID_TARGETING'] = selected_objects['BESTOBJID'].astype(int)\n",
    "selected_objects['FIBERID'] = selected_objects['FIBER']\n",
    "print(len(selected_objects), 'repeated objects\\n', np.array(selected_objects.colnames))"
   ]
  },
  {
   "cell_type": "code",
   "execution_count": 18,
   "metadata": {},
   "outputs": [
    {
     "name": "stdout",
     "output_type": "stream",
     "text": [
      "291852 291852\n"
     ]
    }
   ],
   "source": [
    "print(len(selected_objects), len(unique(selected_objects)))"
   ]
  },
  {
   "cell_type": "code",
   "execution_count": 19,
   "metadata": {},
   "outputs": [
    {
     "name": "stdout",
     "output_type": "stream",
     "text": [
      "['RUN' 'CAMCOL' 'FIELD' 'ID' 'RERUN' 'FIBER2MAG' 'RA' 'DEC' 'PSFFLUX'\n",
      " 'PSFFLUX_IVAR' 'EXTINCTION' 'FIBER2FLUX' 'FIBER2FLUX_IVAR' 'MODELFLUX'\n",
      " 'MODELFLUX_IVAR' 'MODELMAG' 'W1_MAG' 'W1_MAG_ERR' 'W1_NANOMAGGIES'\n",
      " 'W1_NANOMAGGIES_IVAR' 'W2_NANOMAGGIES' 'W2_NANOMAGGIES_IVAR'\n",
      " 'OBJID_TARGETING' 'CHUNK' 'TILE' 'LOCATIONID' 'NTILES' 'BOSSTILE_STATUS'\n",
      " 'TRIMMED' 'IDUPLICATE' 'IGEOMETRY' 'INGROUP' 'FIRSTGROUP' 'MULTGROUP'\n",
      " 'NEXTGROUP' 'SECTOR' 'LRG_ID' 'IMATCH' 'CHUNKspec' 'PLATESN2' 'XFOCAL'\n",
      " 'YFOCAL' 'BOSS_TARGET1' 'PLATE' 'TILEspec' 'MJD' 'FIBERID' 'CLASS' 'Z'\n",
      " 'ZWARNING' 'SN_MEDIAN_ALL' 'SPEC1_G' 'SPEC1_R' 'SPEC1_I' 'SPEC2_G'\n",
      " 'SPEC2_R' 'SPEC2_I' 'TARGETID' 'CHI2' 'COEFF' 'Z_REDROCK' 'ZERR'\n",
      " 'ZWARNING_REDROCK' 'NPIXELS' 'CLASS_REDROCK' 'SUBTYPE' 'NCOEFF'\n",
      " 'DELTACHI2' 'sector_SSR' 'WEIGHT_CP' 'sector_TSR' 'COMP_BOSS']\n",
      "ELG catalogs: 252818 255039\n",
      "Cross-matched repeated observations: 13607 13728 9955\n"
     ]
    },
    {
     "data": {
      "image/png": "[encoded data removed]",
      "text/plain": [
       "<Figure size 432x288 with 3 Axes>"
      ]
     },
     "metadata": {
      "needs_background": "light"
     },
     "output_type": "display_data"
    }
   ],
   "source": [
    "\n",
    "print(np.array(data_lrg.colnames))\n",
    "\n",
    "found = unique(join(data_elg, selected_objects, keys=['MJD', 'PLATE', 'FIBERID']))\n",
    "found2 = unique(join(data_elg_p, selected_objects, keys=['MJD', 'PLATE', 'FIBERID']))\n",
    "found3 = unique(join(data_elg, repeatdata, keys=['MJD', 'PLATE', 'FIBERID']))\n",
    "print('ELG catalogs:', len(data_elg), len(data_elg_p))\n",
    "print('Cross-matched repeated observations:', len(found), len(found2), len(found3))\n",
    "found2[['MJD', 'PLATE', 'FIBERID']].write('/home/bl/Dropbox/repos/spectro-photometric-pca/data/dr16eboss/lss_elgs_repeated.fits', overwrite=True)\n",
    "\n",
    "kwargs = {\n",
    "    'log': True,\n",
    "    'bins': 40,\n",
    "    'histtype': 'step',\n",
    "    'density': True,\n",
    "    'lw': 2\n",
    "}\n",
    "fig, axs = plt.subplots(1, 3)\n",
    "axs[0].hist(data_elg['Z'], **kwargs, range=[0, 4])\n",
    "axs[1].hist(data_elg['SN_MEDIAN_ALL'], **kwargs, range=[0, 20])\n",
    "axs[0].hist(found['Z'], **kwargs, range=[0, 4])\n",
    "axs[1].hist(found['SN_MEDIAN_ALL'], **kwargs, range=[0, 20])\n",
    "axs[2].hist(found['Zr']-found['Z'], **kwargs, range=[-2, 2])\n",
    "fig.tight_layout()"
   ]
  },
  {
   "cell_type": "code",
   "execution_count": 20,
   "metadata": {},
   "outputs": [],
   "source": [
    "def dv_statistics(z1, z2):\n",
    "    dv = (z1 - z2)*3e5 / (1 + z1)\n",
    "    \n",
    "    print('Mean / median:', np.mean(dv), np.me)"
   ]
  },
  {
   "cell_type": "code",
   "execution_count": 21,
   "metadata": {},
   "outputs": [
    {
     "data": {
      "image/png": "[encoded data removed]",
      "text/plain": [
       "<Figure size 432x288 with 1 Axes>"
      ]
     },
     "metadata": {
      "needs_background": "light"
     },
     "output_type": "display_data"
    }
   ],
   "source": [
    "kwargs = {\n",
    "    'log': False,\n",
    "    'histtype': 'step',\n",
    "    'density': True,\n",
    "    'lw': 2,\n",
    "    'range': [-150, 150]\n",
    "}\n",
    "plt.hist((found3['PrimZ']-found3['OtherZ'])*3e5/(1 + found3['PrimZ']), **kwargs, bins=40);\n",
    "plt.hist((found3['Z']-found3['OtherZ'])*3e5/(1 + found3['Z']), **kwargs, bins=41);\n",
    "plt.hist((found3['Z']-found3['PrimZ'])*3e5/(1 + found3['PrimZ']), **kwargs, bins=42);"
   ]
  },
  {
   "cell_type": "code",
   "execution_count": 22,
   "metadata": {},
   "outputs": [
    {
     "name": "stdout",
     "output_type": "stream",
     "text": [
      "['RA' 'DEC' 'Z' 'WEIGHT_SYSTOT' 'WEIGHT_CP' 'WEIGHT_NOZ' 'NZ' 'WEIGHT_FKP'\n",
      " 'sector_TSR' 'COMP_BOSS' 'plate_MJD_SSR' 'sector_SSR' 'chunk' 'plate'\n",
      " 'tile' 'MJD' 'sector' 'ELG_sector' 'sector_area' 'sector_ntiles'\n",
      " 'sector_tiles' 'INGROUP' 'ELG_INGROUP' 'MULTGROUP' 'EBOSS_TARGET1'\n",
      " 'BOSSTILE_STATUS' 'TRIMMED' 'brickname' 'decals_objid' 'decals_uniqid'\n",
      " 'decals_dr' 'type' 'nobs_g' 'nobs_r' 'nobs_z' 'psfdepth_g' 'psfdepth_r'\n",
      " 'psfdepth_z' 'galdepth_g' 'galdepth_r' 'galdepth_z' 'psfsize_g'\n",
      " 'psfsize_r' 'psfsize_z' 'g' 'gr' 'rz' 'rw1' 'rw2' 'IMATCH'\n",
      " 'EBOSS_TARGET_ID' 'hasfiber' 'FIBERID' 'CARTID' 'XFOCAL' 'YFOCAL'\n",
      " 'plate_rSN2' 'SPEC1_G' 'SPEC1_R' 'SPEC1_I' 'SPEC2_G' 'SPEC2_R' 'SPEC2_I'\n",
      " 'SN_MEDIAN' 'SN_MEDIAN_ALL' 'plate_MJD_SN_MEDIAN_ALL' 'Z_zQ' 'Z_zCont'\n",
      " 'Z_ok' 'CHI2' 'DELTACHI2' 'COEFF' 'ZERR' 'ZWARN' 'NPIXELS' 'SPECTYPE'\n",
      " 'SUBTYPE' 'NCOEFF' 'Z_O2_3728_flux' 'Z_O2_3728_fluxErr' 'fast_id'\n",
      " 'fast_lmass' 'mskbit' 'comb_galdepth' 'chunk_z' 'PLATE']\n",
      "LRG catalogs: 227312 241647\n",
      "Cross-matched repeated observations: 16806 16832 19434\n"
     ]
    },
    {
     "data": {
      "image/png": "[encoded data removed]",
      "text/plain": [
       "<Figure size 432x288 with 3 Axes>"
      ]
     },
     "metadata": {
      "needs_background": "light"
     },
     "output_type": "display_data"
    }
   ],
   "source": [
    "\n",
    "print(np.array(data_elg.colnames))\n",
    "\n",
    "#found = join(data_lrg, selected_objects[['OBJID_TARGETING']])\n",
    "found = unique(join(data_lrg, selected_objects, keys=['MJD', 'PLATE', 'FIBERID']))\n",
    "found2 = unique(join(data_lrg_p, selected_objects, keys=['MJD', 'PLATE', 'FIBERID']))\n",
    "found3 = unique(join(data_lrg, repeatdata, keys=['MJD', 'PLATE', 'FIBERID']))\n",
    "print('LRG catalogs:', len(data_lrg), len(data_lrg_p))\n",
    "print('Cross-matched repeated observations:', len(found), len(found2), len(found3))\n",
    "found2[['MJD', 'PLATE', 'FIBERID']].write('/home/bl/Dropbox/repos/spectro-photometric-pca/data/dr16eboss/lss_lrgs_repeated.fits', overwrite=True)\n",
    "\n",
    "kwargs = {\n",
    "    'log': True,\n",
    "    'bins': 40,\n",
    "    'histtype': 'step',\n",
    "    'density': True,\n",
    "    'lw': 2\n",
    "}\n",
    "fig, axs = plt.subplots(1, 3)\n",
    "axs[0].hist(data_lrg['Z'], **kwargs, range=[0, 4])\n",
    "axs[1].hist(data_lrg['SN_MEDIAN_ALL'], **kwargs, range=[0, 20])\n",
    "axs[0].hist(found['Z'], **kwargs, range=[0, 4])\n",
    "axs[1].hist(found['SN_MEDIAN_ALL'], **kwargs, range=[0, 20])\n",
    "axs[2].hist(found['Zr']-found['Z'], **kwargs, range=[-2, 2])\n",
    "fig.tight_layout()"
   ]
  },
  {
   "cell_type": "code",
   "execution_count": 23,
   "metadata": {},
   "outputs": [
    {
     "data": {
      "image/png": "[encoded data removed]",
      "text/plain": [
       "<Figure size 432x288 with 1 Axes>"
      ]
     },
     "metadata": {
      "needs_background": "light"
     },
     "output_type": "display_data"
    }
   ],
   "source": [
    "kwargs = {\n",
    "    'log': False,\n",
    "    'histtype': 'step',\n",
    "    'density': True,\n",
    "    'lw': 2,\n",
    "    'range': [-400, 400]\n",
    "}\n",
    "plt.hist((found3['PrimZ']-found3['OtherZ'])*3e5/(1 + found3['PrimZ']), **kwargs, bins=40);\n",
    "plt.hist((found3['Z']-found3['OtherZ'])*3e5/(1 + found3['Z']), **kwargs, bins=41);\n",
    "plt.hist((found3['Z']-found3['PrimZ'])*3e5/(1 + found3['PrimZ']), **kwargs, bins=42); "
   ]
  },
  {
   "cell_type": "code",
   "execution_count": 24,
   "metadata": {},
   "outputs": [],
   "source": [
    "# Constructing training and testing sets"
   ]
  },
  {
   "cell_type": "code",
   "execution_count": 25,
   "metadata": {},
   "outputs": [],
   "source": [
    "# What photometry\n",
    "# https://www.sdss.org/dr16/algorithms/flags_detail/\n",
    "# https://www.astro.princeton.edu/~rhl/flags.html"
   ]
  },
  {
   "cell_type": "markdown",
   "metadata": {},
   "source": [
    "\n",
    "-- The Clean Photometry sample query above showed how\n",
    "-- to select only objects for which SDSS-III imaging pipeline has declared\n",
    "-- the photometry clean. Usually, it is sufficient to search only the CLEAN flag;\n",
    "-- but in some contexts, it is important to know what conditions\n",
    "-- are required for the CLEAN flag to be set. The imaging pipeline sets the\n",
    "-- CLEAN flag based on the values of other flags; these necessary values are\n",
    "-- different for stars and galaxies. The version of this sample query for stars\n",
    "-- can be found in the Clean photometry - Stars sample query.\n",
    "\n",
    "-- For galaxies (i.e. not using PSF mags): Again use only PRIMARY objects. Other\n",
    "-- cuts are nearly the same, but remove the cut on EDGE. Possibly also remove\n",
    "-- the cut on INTERP flags.\n",
    "\n",
    "-- In this query, the human-readable flag names (through calls to the flag\n",
    "-- functions have been replaced with explicit values. Using explicit values for flags\n",
    "-- makes the queries run much faster.\n",
    "\n",
    "SELECT TOP 10 u,g,r,i,z,ra,dec, flags_r\n",
    "FROM Galaxy\n",
    "WHERE\n",
    "ra BETWEEN 180 and 181 AND dec BETWEEN -0.5 and 0.5\n",
    "AND ((flags_r & 0x10000000) != 0)\n",
    "-- detected in BINNED1\n",
    "AND ((flags_r & 0x8100000c00a0) = 0)\n",
    "-- not NOPROFILE, PEAKCENTER, NOTCHECKED, PSF_FLUX_INTERP, SATURATED,\n",
    "-- or BAD_COUNTS_ERROR.\n",
    "-- if you want to accept objects with interpolation problems for PSF mags,\n",
    "-- change this to: AND ((flags_r & 0x800a0) = 0)\n",
    "AND (((flags_r & 0x400000000000) = 0) or (psfmagerr_r <= 0.2))\n",
    "-- not DEBLEND_NOPEAK or small PSF error\n",
    "-- (substitute psfmagerr in other band as appropriate)\n",
    "AND (((flags_r & 0x100000000000) = 0) or (flags_r & 0x1000) = 0)\n",
    "-- not INTERP_CENTER or not COSMIC_RAY - - omit this AND clause if you want to\n",
    "-- accept objects with interpolation problems for PSF mags."
   ]
  },
  {
   "cell_type": "code",
   "execution_count": 26,
   "metadata": {},
   "outputs": [],
   "source": [
    "zmax = 1.8\n",
    "\n",
    "(\n",
    "    new_logwave_rest_centers,\n",
    "    logwavegrid_z,\n",
    "    lamspec_waveoffset,\n",
    ") = build_sdss_grids(zmax)\n"
   ]
  },
  {
   "cell_type": "code",
   "execution_count": 27,
   "metadata": {},
   "outputs": [],
   "source": [
    "sel_lss_elgs = Table.read('/home/bl/Dropbox/repos/spectro-photometric-pca/data/dr16eboss/elgs_uniftrain_photoIDonly.csv')\n",
    "sel_lss_lrgs = Table.read('/home/bl/Dropbox/repos/spectro-photometric-pca/data/dr16eboss/lrgs_uniftrain_photoIDonly.csv')"
   ]
  },
  {
   "cell_type": "code",
   "execution_count": 28,
   "metadata": {},
   "outputs": [
    {
     "name": "stdout",
     "output_type": "stream",
     "text": [
      "Number of lss ELGs 49669\n",
      "Number of lss LRGs 50000\n",
      "Number of repeat ELGs 13728\n",
      "Number of repeat LRGs 16832\n"
     ]
    }
   ],
   "source": [
    "\n",
    "lssdata_elg_sp = unique(join(data_elg_p, sel_lss_elgs, keys=['MJD', 'PLATE', 'FIBERID']))\n",
    "\n",
    "lssdata_lrg_sp = unique(join(data_lrg_p, sel_lss_lrgs, keys=['MJD', 'PLATE', 'FIBERID']))\n",
    "\n",
    "repdata_elg_sp = unique(join(data_elg_p, selected_objects, keys=['MJD', 'PLATE', 'FIBERID']))\n",
    "\n",
    "repdata_lrg_sp = unique(join(data_lrg_p, selected_objects, keys=['MJD', 'PLATE', 'FIBERID']))\n",
    "\n",
    "print('Number of lss ELGs', len(lssdata_elg_sp))\n",
    "print('Number of lss LRGs', len(lssdata_lrg_sp))\n",
    "print('Number of repeat ELGs', len(repdata_elg_sp))\n",
    "print('Number of repeat LRGs', len(repdata_lrg_sp))\n",
    "\n",
    "fulldata = pd.concat([\n",
    "    lssdata_elg_sp.to_pandas(), \n",
    "    lssdata_lrg_sp.to_pandas(),\n",
    "    repdata_elg_sp.to_pandas(), \n",
    "    repdata_lrg_sp.to_pandas()\n",
    "])\n",
    "\n",
    "n1 = len(lssdata_elg_sp) + len(lssdata_lrg_sp)\n",
    "n2 = len(repdata_elg_sp) + len(repdata_lrg_sp)\n",
    "\n",
    "indices_train = np.arange(0, n1)\n",
    "indices_valid = np.arange(n1+1, n1+n2)"
   ]
  },
  {
   "cell_type": "code",
   "execution_count": 29,
   "metadata": {},
   "outputs": [
    {
     "data": {
      "text/plain": [
       "['specObjID',\n",
       " 'mjd',\n",
       " 'plate',\n",
       " 'tile',\n",
       " 'fiberID',\n",
       " 'z',\n",
       " 'zErr',\n",
       " 'class',\n",
       " 'subClass',\n",
       " 'zWarning',\n",
       " 'ra',\n",
       " 'dec',\n",
       " 'cx',\n",
       " 'cy',\n",
       " 'cz',\n",
       " 'htmID',\n",
       " 'sciencePrimary',\n",
       " 'legacyPrimary',\n",
       " 'seguePrimary',\n",
       " 'segue1Primary',\n",
       " 'segue2Primary',\n",
       " 'bossPrimary',\n",
       " 'sdssPrimary',\n",
       " 'survey',\n",
       " 'programname',\n",
       " 'legacy_target1',\n",
       " 'legacy_target2',\n",
       " 'special_target1',\n",
       " 'special_target2',\n",
       " 'segue1_target1',\n",
       " 'segue1_target2',\n",
       " 'segue2_target1',\n",
       " 'segue2_target2',\n",
       " 'boss_target1',\n",
       " 'ancillary_target1',\n",
       " 'ancillary_target2',\n",
       " 'plateID',\n",
       " 'sourceType',\n",
       " 'targetObjID',\n",
       " 'objID',\n",
       " 'skyVersion',\n",
       " 'run',\n",
       " 'rerun',\n",
       " 'camcol',\n",
       " 'field',\n",
       " 'obj',\n",
       " 'mode',\n",
       " 'nChild',\n",
       " 'type',\n",
       " 'flags',\n",
       " 'psfMag_u',\n",
       " 'psfMag_g',\n",
       " 'psfMag_r',\n",
       " 'psfMag_i',\n",
       " 'psfMag_z',\n",
       " 'psfMagErr_u',\n",
       " 'psfMagErr_g',\n",
       " 'psfMagErr_r',\n",
       " 'psfMagErr_i',\n",
       " 'psfMagErr_z',\n",
       " 'fiberMag_u',\n",
       " 'fiberMag_g',\n",
       " 'fiberMag_r',\n",
       " 'fiberMag_i',\n",
       " 'fiberMag_z',\n",
       " 'fiberMagErr_u',\n",
       " 'fiberMagErr_g',\n",
       " 'fiberMagErr_r',\n",
       " 'fiberMagErr_i',\n",
       " 'fiberMagErr_z',\n",
       " 'petroMag_u',\n",
       " 'petroMag_g',\n",
       " 'petroMag_r',\n",
       " 'petroMag_i',\n",
       " 'petroMag_z',\n",
       " 'petroMagErr_u',\n",
       " 'petroMagErr_g',\n",
       " 'petroMagErr_r',\n",
       " 'petroMagErr_i',\n",
       " 'petroMagErr_z',\n",
       " 'modelMag_u',\n",
       " 'modelMag_g',\n",
       " 'modelMag_r',\n",
       " 'modelMag_i',\n",
       " 'modelMag_z',\n",
       " 'modelMagErr_u',\n",
       " 'modelMagErr_g',\n",
       " 'modelMagErr_r',\n",
       " 'modelMagErr_i',\n",
       " 'modelMagErr_z',\n",
       " 'cModelMag_u',\n",
       " 'cModelMag_g',\n",
       " 'cModelMag_r',\n",
       " 'cModelMag_i',\n",
       " 'cModelMag_z',\n",
       " 'cModelMagErr_u',\n",
       " 'cModelMagErr_g',\n",
       " 'cModelMagErr_r',\n",
       " 'cModelMagErr_i',\n",
       " 'cModelMagErr_z',\n",
       " 'mRrCc_r',\n",
       " 'mRrCcErr_r',\n",
       " 'score',\n",
       " 'resolveStatus',\n",
       " 'calibStatus_u',\n",
       " 'calibStatus_g',\n",
       " 'calibStatus_r',\n",
       " 'calibStatus_i',\n",
       " 'calibStatus_z',\n",
       " 'photoRa',\n",
       " 'photoDec',\n",
       " 'extinction_u',\n",
       " 'extinction_g',\n",
       " 'extinction_r',\n",
       " 'extinction_i',\n",
       " 'extinction_z',\n",
       " 'fieldID',\n",
       " 'dered_u',\n",
       " 'dered_g',\n",
       " 'dered_r',\n",
       " 'dered_i',\n",
       " 'dered_z',\n",
       " 'Column1',\n",
       " 'Column2',\n",
       " 'Column3',\n",
       " 'PLATE',\n",
       " 'FIBERID',\n",
       " 'MJD',\n",
       " 'BESTOBJID',\n",
       " 'Zr',\n",
       " 'FIBER',\n",
       " 'IsBest',\n",
       " 'OBJID_TARGETING']"
      ]
     },
     "execution_count": 29,
     "metadata": {},
     "output_type": "execute_result"
    }
   ],
   "source": [
    "repdata_elg_sp.colnames"
   ]
  },
  {
   "cell_type": "code",
   "execution_count": 30,
   "metadata": {},
   "outputs": [
    {
     "data": {
      "text/plain": [
       "130229"
      ]
     },
     "execution_count": 30,
     "metadata": {},
     "output_type": "execute_result"
    }
   ],
   "source": [
    "len(fulldata)"
   ]
  },
  {
   "cell_type": "code",
   "execution_count": 32,
   "metadata": {},
   "outputs": [
    {
     "name": "stdout",
     "output_type": "stream",
     "text": [
      "Downloading SFD data file to /home/bl/Dropbox/repos/spectro-photometric-pca/notebooks/sfd/SFD_dust_4096_ngp.fits\n",
      "Checking existing file to see if MD5 sum matches ...\n",
      "File exists. Not overwriting.\n",
      "Downloading SFD data file to /home/bl/Dropbox/repos/spectro-photometric-pca/notebooks/sfd/SFD_dust_4096_sgp.fits\n",
      "Checking existing file to see if MD5 sum matches ...\n",
      "File exists. Not overwriting.\n"
     ]
    }
   ],
   "source": [
    "correct_for_extinction = True\n",
    "\n",
    "if correct_for_extinction:\n",
    "    \n",
    "    from astropy.coordinates import SkyCoord\n",
    "    from dustmaps.sfd import SFDQuery\n",
    "\n",
    "    from dustmaps.config import config\n",
    "    config['data_dir'] = '.'\n",
    "    import dustmaps.sfd\n",
    "    dustmaps.sfd.fetch()\n",
    "    \n",
    "    coords = SkyCoord(fulldata['ra'], fulldata['dec'], frame='icrs', unit='deg')\n",
    "    sfd = SFDQuery()\n",
    "    ebv = sfd(coords)\n",
    "    \n",
    "else:\n",
    "    \n",
    "    ebv = 0\n",
    "\n",
    "fulldata['EBV'] = ebv"
   ]
  },
  {
   "cell_type": "code",
   "execution_count": 33,
   "metadata": {},
   "outputs": [
    {
     "name": "stderr",
     "output_type": "stream",
     "text": [
      "/home/bl/Dropbox/repos/spectro-photometric-pca/spectrophotometricpca/dataprep.py:70: FutureWarning: Support for multi-dimensional indexing (e.g. `obj[:, None]`) is deprecated and will be removed in a future version.  Convert to a numpy array before indexing instead.\n",
      "  Av = ebv[:, None] * np.array(extinctionCoefficients)[None, :]\n"
     ]
    }
   ],
   "source": [
    "fulldata[fulldata == 'null'] = np.nan\n",
    "fluxes, fluxErrs = load_fluxes(fulldata)"
   ]
  },
  {
   "cell_type": "code",
   "execution_count": 34,
   "metadata": {},
   "outputs": [
    {
     "name": "stdout",
     "output_type": "stream",
     "text": [
      "122902 130229\n"
     ]
    }
   ],
   "source": [
    "ind = np.all(np.isfinite(fluxes), axis=1)\n",
    "ind &= np.all(np.isfinite(fluxes), axis=1)\n",
    "indices = np.where(ind)[0]#np.random.choice(len(fulldata), 34364, replace=False)\n",
    "print(indices.size, ind.size)"
   ]
  },
  {
   "cell_type": "code",
   "execution_count": 35,
   "metadata": {},
   "outputs": [],
   "source": [
    "root = home+'bl/Astrodata/sdss_spectra/'\n",
    "fullroot = root+'sas/dr16/eboss/spectro/redux/v5_13_0/spectra/lite/'\n"
   ]
  },
  {
   "cell_type": "code",
   "execution_count": 36,
   "metadata": {},
   "outputs": [],
   "source": [
    "fulldata['Z'] = fulldata['z']"
   ]
  },
  {
   "cell_type": "code",
   "execution_count": null,
   "metadata": {},
   "outputs": [],
   "source": []
  },
  {
   "cell_type": "code",
   "execution_count": 37,
   "metadata": {
    "scrolled": true
   },
   "outputs": [
    {
     "name": "stderr",
     "output_type": "stream",
     "text": [
      "WARNING: hdu= was not specified but multiple tables are present, reading in first available table (hdu=1) [astropy.io.fits.connect]\n",
      "/home/bl/Dropbox/repos/spectro-photometric-pca/spectrophotometricpca/dataprep.py:339: RuntimeWarning: overflow encountered in power\n",
      "  spec = extinction.remove(extinction_sed, spec)\n",
      "/home/bl/Dropbox/repos/spectro-photometric-pca/spectrophotometricpca/dataprep.py:340: RuntimeWarning: overflow encountered in power\n",
      "  spec_off = extinction.remove(extinction_sed, spec_off)\n"
     ]
    },
    {
     "name": "stdout",
     "output_type": "stream",
     "text": [
      "Processed 1000 spectra in 0.24 minutes (0.015 sec per object)\n",
      "Valid spectra: 995 out of 1000\n",
      "> Estimated remaining time: >> 29.83 minutes << for 121902 objects\n",
      "Processed 2000 spectra in 0.48 minutes (0.014 sec per object)\n",
      "Valid spectra: 1989 out of 2000\n",
      "> Estimated remaining time: >> 28.86 minutes << for 120902 objects\n",
      "Processed 3000 spectra in 0.71 minutes (0.014 sec per object)\n",
      "Valid spectra: 2985 out of 3000\n",
      "> Estimated remaining time: >> 28.23 minutes << for 119902 objects\n",
      "Processed 4000 spectra in 0.94 minutes (0.014 sec per object)\n",
      "Valid spectra: 3981 out of 4000\n",
      "> Estimated remaining time: >> 27.87 minutes << for 118902 objects\n",
      "Processed 5000 spectra in 1.16 minutes (0.014 sec per object)\n",
      "Valid spectra: 4973 out of 5000\n",
      "> Estimated remaining time: >> 27.32 minutes << for 117902 objects\n",
      "Processed 6000 spectra in 1.40 minutes (0.014 sec per object)\n",
      "Valid spectra: 5966 out of 6000\n",
      "> Estimated remaining time: >> 27.20 minutes << for 116902 objects\n",
      "Processed 7000 spectra in 1.61 minutes (0.014 sec per object)\n",
      "Valid spectra: 6960 out of 7000\n",
      "> Estimated remaining time: >> 26.63 minutes << for 115902 objects\n",
      "Processed 8000 spectra in 1.75 minutes (0.013 sec per object)\n",
      "Valid spectra: 7955 out of 8000\n",
      "> Estimated remaining time: >> 25.16 minutes << for 114902 objects\n",
      "Processed 9000 spectra in 1.98 minutes (0.013 sec per object)\n",
      "Valid spectra: 8953 out of 9000\n",
      "> Estimated remaining time: >> 25.02 minutes << for 113902 objects\n",
      "Processed 10000 spectra in 2.20 minutes (0.013 sec per object)\n",
      "Valid spectra: 9949 out of 10000\n",
      "> Estimated remaining time: >> 24.82 minutes << for 112902 objects\n",
      "Processed 11000 spectra in 2.44 minutes (0.013 sec per object)\n",
      "Valid spectra: 10943 out of 11000\n",
      "> Estimated remaining time: >> 24.83 minutes << for 111902 objects\n",
      "Processed 12000 spectra in 2.67 minutes (0.013 sec per object)\n",
      "Valid spectra: 11936 out of 12000\n",
      "> Estimated remaining time: >> 24.66 minutes << for 110902 objects\n",
      "Processed 13000 spectra in 2.90 minutes (0.013 sec per object)\n",
      "Valid spectra: 12927 out of 13000\n",
      "> Estimated remaining time: >> 24.52 minutes << for 109902 objects\n",
      "Processed 14000 spectra in 3.15 minutes (0.013 sec per object)\n",
      "Valid spectra: 13920 out of 14000\n",
      "> Estimated remaining time: >> 24.47 minutes << for 108902 objects\n",
      "Processed 15000 spectra in 3.37 minutes (0.013 sec per object)\n",
      "Valid spectra: 14914 out of 15000\n",
      "> Estimated remaining time: >> 24.24 minutes << for 107902 objects\n",
      "Processed 16000 spectra in 3.60 minutes (0.014 sec per object)\n",
      "Valid spectra: 15908 out of 16000\n",
      "> Estimated remaining time: >> 24.06 minutes << for 106902 objects\n",
      "Processed 17000 spectra in 3.81 minutes (0.013 sec per object)\n",
      "Valid spectra: 16904 out of 17000\n",
      "> Estimated remaining time: >> 23.75 minutes << for 105902 objects\n",
      "Processed 18000 spectra in 3.97 minutes (0.013 sec per object)\n",
      "Valid spectra: 17902 out of 18000\n",
      "> Estimated remaining time: >> 23.13 minutes << for 104902 objects\n",
      "Processed 19000 spectra in 4.09 minutes (0.013 sec per object)\n",
      "Valid spectra: 18896 out of 19000\n",
      "> Estimated remaining time: >> 22.38 minutes << for 103902 objects\n",
      "Processed 20000 spectra in 4.22 minutes (0.013 sec per object)\n",
      "Valid spectra: 19890 out of 20000\n",
      "> Estimated remaining time: >> 21.70 minutes << for 102902 objects\n",
      "Processed 21000 spectra in 4.34 minutes (0.012 sec per object)\n",
      "Valid spectra: 20886 out of 21000\n",
      "> Estimated remaining time: >> 21.08 minutes << for 101902 objects\n",
      "Processed 22000 spectra in 4.47 minutes (0.012 sec per object)\n",
      "Valid spectra: 21878 out of 22000\n",
      "> Estimated remaining time: >> 20.51 minutes << for 100902 objects\n",
      "Processed 23000 spectra in 4.60 minutes (0.012 sec per object)\n",
      "Valid spectra: 22871 out of 23000\n",
      "> Estimated remaining time: >> 19.99 minutes << for 99902 objects\n",
      "Processed 24000 spectra in 4.73 minutes (0.012 sec per object)\n",
      "Valid spectra: 23870 out of 24000\n",
      "> Estimated remaining time: >> 19.48 minutes << for 98902 objects\n",
      "Processed 25000 spectra in 4.85 minutes (0.012 sec per object)\n",
      "Valid spectra: 24864 out of 25000\n",
      "> Estimated remaining time: >> 19.00 minutes << for 97902 objects\n",
      "Processed 26000 spectra in 4.97 minutes (0.011 sec per object)\n",
      "Valid spectra: 25862 out of 26000\n",
      "> Estimated remaining time: >> 18.54 minutes << for 96902 objects\n",
      "Processed 27000 spectra in 5.10 minutes (0.011 sec per object)\n",
      "Valid spectra: 26857 out of 27000\n",
      "> Estimated remaining time: >> 18.10 minutes << for 95902 objects\n",
      "Processed 28000 spectra in 5.22 minutes (0.011 sec per object)\n",
      "Valid spectra: 27853 out of 28000\n",
      "> Estimated remaining time: >> 17.69 minutes << for 94902 objects\n",
      "Processed 29000 spectra in 5.34 minutes (0.011 sec per object)\n",
      "Valid spectra: 28851 out of 29000\n",
      "> Estimated remaining time: >> 17.30 minutes << for 93902 objects\n",
      "Processed 30000 spectra in 5.47 minutes (0.011 sec per object)\n",
      "Valid spectra: 29850 out of 30000\n",
      "> Estimated remaining time: >> 16.92 minutes << for 92902 objects\n",
      "Processed 31000 spectra in 5.59 minutes (0.011 sec per object)\n",
      "Valid spectra: 30844 out of 31000\n",
      "> Estimated remaining time: >> 16.57 minutes << for 91902 objects\n",
      "Processed 32000 spectra in 5.71 minutes (0.011 sec per object)\n",
      "Valid spectra: 31837 out of 32000\n",
      "> Estimated remaining time: >> 16.22 minutes << for 90902 objects\n",
      "Processed 33000 spectra in 5.84 minutes (0.011 sec per object)\n",
      "Valid spectra: 32832 out of 33000\n",
      "> Estimated remaining time: >> 15.90 minutes << for 89902 objects\n",
      "Processed 34000 spectra in 5.96 minutes (0.011 sec per object)\n",
      "Valid spectra: 33828 out of 34000\n",
      "> Estimated remaining time: >> 15.59 minutes << for 88902 objects\n",
      "Processed 35000 spectra in 6.08 minutes (0.010 sec per object)\n",
      "Valid spectra: 34819 out of 35000\n",
      "> Estimated remaining time: >> 15.28 minutes << for 87902 objects\n",
      "Processed 36000 spectra in 6.20 minutes (0.010 sec per object)\n",
      "Valid spectra: 35813 out of 36000\n",
      "> Estimated remaining time: >> 14.98 minutes << for 86902 objects\n",
      "Processed 38000 spectra in 6.45 minutes (0.010 sec per object)\n",
      "Valid spectra: 37806 out of 38000\n",
      "> Estimated remaining time: >> 14.40 minutes << for 84902 objects\n",
      "Processed 39000 spectra in 6.57 minutes (0.010 sec per object)\n",
      "Valid spectra: 38802 out of 39000\n",
      "> Estimated remaining time: >> 14.13 minutes << for 83902 objects\n",
      "Processed 40000 spectra in 6.69 minutes (0.010 sec per object)\n",
      "Valid spectra: 39796 out of 40000\n",
      "> Estimated remaining time: >> 13.87 minutes << for 82902 objects\n",
      "Processed 41000 spectra in 6.81 minutes (0.010 sec per object)\n",
      "Valid spectra: 40791 out of 41000\n",
      "> Estimated remaining time: >> 13.61 minutes << for 81902 objects\n",
      "Processed 42000 spectra in 6.94 minutes (0.010 sec per object)\n",
      "Valid spectra: 41789 out of 42000\n",
      "> Estimated remaining time: >> 13.37 minutes << for 80902 objects\n",
      "Processed 43000 spectra in 7.06 minutes (0.010 sec per object)\n",
      "Valid spectra: 42787 out of 43000\n",
      "> Estimated remaining time: >> 13.12 minutes << for 79902 objects\n",
      "Processed 44000 spectra in 7.18 minutes (0.010 sec per object)\n",
      "Valid spectra: 43781 out of 44000\n",
      "> Estimated remaining time: >> 12.88 minutes << for 78902 objects\n",
      "Processed 45000 spectra in 7.31 minutes (0.010 sec per object)\n",
      "Valid spectra: 44774 out of 45000\n",
      "> Estimated remaining time: >> 12.65 minutes << for 77902 objects\n",
      "Processed 46000 spectra in 7.43 minutes (0.010 sec per object)\n",
      "Valid spectra: 45771 out of 46000\n",
      "> Estimated remaining time: >> 12.42 minutes << for 76902 objects\n",
      "Processed 47000 spectra in 7.61 minutes (0.010 sec per object)\n",
      "Valid spectra: 46770 out of 47000\n",
      "> Estimated remaining time: >> 12.29 minutes << for 75902 objects\n",
      "Processed 48000 spectra in 7.83 minutes (0.010 sec per object)\n",
      "Valid spectra: 47767 out of 48000\n",
      "> Estimated remaining time: >> 12.21 minutes << for 74902 objects\n",
      "Processed 49000 spectra in 8.05 minutes (0.010 sec per object)\n",
      "Valid spectra: 48763 out of 49000\n",
      "> Estimated remaining time: >> 12.14 minutes << for 73902 objects\n",
      "Processed 50000 spectra in 8.26 minutes (0.010 sec per object)\n",
      "Valid spectra: 49760 out of 50000\n",
      "> Estimated remaining time: >> 12.05 minutes << for 72902 objects\n",
      "Processed 51000 spectra in 8.48 minutes (0.010 sec per object)\n",
      "Valid spectra: 50754 out of 51000\n",
      "> Estimated remaining time: >> 11.95 minutes << for 71902 objects\n",
      "Processed 52000 spectra in 8.70 minutes (0.010 sec per object)\n",
      "Valid spectra: 51753 out of 52000\n",
      "> Estimated remaining time: >> 11.86 minutes << for 70902 objects\n"
     ]
    },
    {
     "name": "stdout",
     "output_type": "stream",
     "text": [
      "Processed 53000 spectra in 8.92 minutes (0.010 sec per object)\n",
      "Valid spectra: 52749 out of 53000\n",
      "> Estimated remaining time: >> 11.76 minutes << for 69902 objects\n",
      "Processed 54000 spectra in 9.14 minutes (0.010 sec per object)\n",
      "Valid spectra: 53747 out of 54000\n",
      "> Estimated remaining time: >> 11.67 minutes << for 68902 objects\n",
      "Processed 55000 spectra in 9.32 minutes (0.010 sec per object)\n",
      "Valid spectra: 54743 out of 55000\n",
      "> Estimated remaining time: >> 11.50 minutes << for 67902 objects\n",
      "Processed 56000 spectra in 9.52 minutes (0.010 sec per object)\n",
      "Valid spectra: 55738 out of 56000\n",
      "> Estimated remaining time: >> 11.38 minutes << for 66902 objects\n",
      "Processed 57000 spectra in 9.72 minutes (0.010 sec per object)\n",
      "Valid spectra: 56734 out of 57000\n",
      "> Estimated remaining time: >> 11.24 minutes << for 65902 objects\n",
      "Processed 58000 spectra in 9.95 minutes (0.010 sec per object)\n",
      "Valid spectra: 57730 out of 58000\n",
      "> Estimated remaining time: >> 11.13 minutes << for 64902 objects\n",
      "Processed 59000 spectra in 10.18 minutes (0.010 sec per object)\n",
      "Valid spectra: 58725 out of 59000\n",
      "> Estimated remaining time: >> 11.03 minutes << for 63902 objects\n",
      "Processed 60000 spectra in 10.41 minutes (0.010 sec per object)\n",
      "Valid spectra: 59722 out of 60000\n",
      "> Estimated remaining time: >> 10.91 minutes << for 62902 objects\n",
      "Processed 61000 spectra in 10.62 minutes (0.010 sec per object)\n",
      "Valid spectra: 60714 out of 61000\n",
      "> Estimated remaining time: >> 10.78 minutes << for 61902 objects\n",
      "Processed 62000 spectra in 10.84 minutes (0.010 sec per object)\n",
      "Valid spectra: 61710 out of 62000\n",
      "> Estimated remaining time: >> 10.65 minutes << for 60902 objects\n",
      "Processed 63000 spectra in 11.06 minutes (0.011 sec per object)\n",
      "Valid spectra: 62707 out of 63000\n",
      "> Estimated remaining time: >> 10.51 minutes << for 59902 objects\n",
      "Processed 64000 spectra in 11.28 minutes (0.011 sec per object)\n",
      "Valid spectra: 63697 out of 64000\n",
      "> Estimated remaining time: >> 10.38 minutes << for 58902 objects\n",
      "Processed 65000 spectra in 11.48 minutes (0.011 sec per object)\n",
      "Valid spectra: 64687 out of 65000\n",
      "> Estimated remaining time: >> 10.23 minutes << for 57902 objects\n",
      "Processed 66000 spectra in 11.67 minutes (0.011 sec per object)\n",
      "Valid spectra: 65684 out of 66000\n",
      "> Estimated remaining time: >> 10.06 minutes << for 56902 objects\n",
      "Processed 67000 spectra in 11.89 minutes (0.011 sec per object)\n",
      "Valid spectra: 66682 out of 67000\n",
      "> Estimated remaining time: >> 9.92 minutes << for 55902 objects\n",
      "Processed 68000 spectra in 12.11 minutes (0.011 sec per object)\n",
      "Valid spectra: 67677 out of 68000\n",
      "> Estimated remaining time: >> 9.77 minutes << for 54902 objects\n",
      "Processed 69000 spectra in 12.30 minutes (0.011 sec per object)\n",
      "Valid spectra: 68674 out of 69000\n",
      "> Estimated remaining time: >> 9.61 minutes << for 53902 objects\n",
      "Processed 70000 spectra in 12.51 minutes (0.011 sec per object)\n",
      "Valid spectra: 69673 out of 70000\n",
      "> Estimated remaining time: >> 9.46 minutes << for 52902 objects\n",
      "Processed 71000 spectra in 12.72 minutes (0.011 sec per object)\n",
      "Valid spectra: 70667 out of 71000\n",
      "> Estimated remaining time: >> 9.30 minutes << for 51902 objects\n",
      "Processed 72000 spectra in 12.94 minutes (0.011 sec per object)\n",
      "Valid spectra: 71663 out of 72000\n",
      "> Estimated remaining time: >> 9.15 minutes << for 50902 objects\n",
      "Processed 73000 spectra in 13.15 minutes (0.011 sec per object)\n",
      "Valid spectra: 72660 out of 73000\n",
      "> Estimated remaining time: >> 8.99 minutes << for 49902 objects\n",
      "Processed 74000 spectra in 13.38 minutes (0.011 sec per object)\n",
      "Valid spectra: 73654 out of 74000\n",
      "> Estimated remaining time: >> 8.84 minutes << for 48902 objects\n",
      "Processed 75000 spectra in 13.61 minutes (0.011 sec per object)\n",
      "Valid spectra: 74653 out of 75000\n",
      "> Estimated remaining time: >> 8.69 minutes << for 47902 objects\n",
      "Processed 76000 spectra in 13.74 minutes (0.011 sec per object)\n",
      "Valid spectra: 75650 out of 76000\n",
      "> Estimated remaining time: >> 8.48 minutes << for 46902 objects\n",
      "Processed 77000 spectra in 13.87 minutes (0.011 sec per object)\n",
      "Valid spectra: 76646 out of 77000\n",
      "> Estimated remaining time: >> 8.27 minutes << for 45902 objects\n",
      "Processed 78000 spectra in 13.99 minutes (0.011 sec per object)\n",
      "Valid spectra: 77642 out of 78000\n",
      "> Estimated remaining time: >> 8.05 minutes << for 44902 objects\n",
      "Processed 79000 spectra in 14.11 minutes (0.011 sec per object)\n",
      "Valid spectra: 78641 out of 79000\n",
      "> Estimated remaining time: >> 7.84 minutes << for 43902 objects\n",
      "Processed 80000 spectra in 14.23 minutes (0.011 sec per object)\n",
      "Valid spectra: 79637 out of 80000\n",
      "> Estimated remaining time: >> 7.63 minutes << for 42902 objects\n",
      "Processed 81000 spectra in 14.35 minutes (0.011 sec per object)\n",
      "Valid spectra: 80632 out of 81000\n",
      "> Estimated remaining time: >> 7.43 minutes << for 41902 objects\n",
      "Processed 82000 spectra in 14.47 minutes (0.011 sec per object)\n",
      "Valid spectra: 81628 out of 82000\n",
      "> Estimated remaining time: >> 7.22 minutes << for 40902 objects\n",
      "Processed 83000 spectra in 14.60 minutes (0.011 sec per object)\n",
      "Valid spectra: 82625 out of 83000\n",
      "> Estimated remaining time: >> 7.02 minutes << for 39902 objects\n",
      "Processed 84000 spectra in 14.72 minutes (0.011 sec per object)\n",
      "Valid spectra: 83621 out of 84000\n",
      "> Estimated remaining time: >> 6.82 minutes << for 38902 objects\n",
      "Processed 85000 spectra in 14.84 minutes (0.010 sec per object)\n",
      "Valid spectra: 84615 out of 85000\n",
      "> Estimated remaining time: >> 6.62 minutes << for 37902 objects\n",
      "Processed 86000 spectra in 14.96 minutes (0.010 sec per object)\n",
      "Valid spectra: 85613 out of 86000\n",
      "> Estimated remaining time: >> 6.42 minutes << for 36902 objects\n",
      "Processed 87000 spectra in 15.08 minutes (0.010 sec per object)\n",
      "Valid spectra: 86612 out of 87000\n",
      "> Estimated remaining time: >> 6.22 minutes << for 35902 objects\n",
      "Processed 88000 spectra in 15.20 minutes (0.010 sec per object)\n",
      "Valid spectra: 87606 out of 88000\n",
      "> Estimated remaining time: >> 6.03 minutes << for 34902 objects\n",
      "Processed 89000 spectra in 15.33 minutes (0.010 sec per object)\n",
      "Valid spectra: 88604 out of 89000\n",
      "> Estimated remaining time: >> 5.84 minutes << for 33902 objects\n",
      "Processed 90000 spectra in 15.45 minutes (0.010 sec per object)\n",
      "Valid spectra: 89601 out of 90000\n",
      "> Estimated remaining time: >> 5.65 minutes << for 32902 objects\n",
      "Processed 91000 spectra in 15.57 minutes (0.010 sec per object)\n",
      "Valid spectra: 90598 out of 91000\n",
      "> Estimated remaining time: >> 5.46 minutes << for 31902 objects\n",
      "Processed 92000 spectra in 15.69 minutes (0.010 sec per object)\n",
      "Valid spectra: 91596 out of 92000\n",
      "> Estimated remaining time: >> 5.27 minutes << for 30902 objects\n",
      "Processed 93000 spectra in 15.82 minutes (0.010 sec per object)\n",
      "Valid spectra: 92589 out of 93000\n",
      "> Estimated remaining time: >> 5.09 minutes << for 29902 objects\n",
      "Processed 94000 spectra in 15.94 minutes (0.010 sec per object)\n",
      "Valid spectra: 93581 out of 94000\n",
      "> Estimated remaining time: >> 4.90 minutes << for 28902 objects\n",
      "Processed 95000 spectra in 16.06 minutes (0.010 sec per object)\n",
      "Valid spectra: 94573 out of 95000\n",
      "> Estimated remaining time: >> 4.72 minutes << for 27902 objects\n",
      "Processed 96000 spectra in 16.19 minutes (0.010 sec per object)\n",
      "Valid spectra: 95562 out of 96000\n",
      "> Estimated remaining time: >> 4.54 minutes << for 26902 objects\n",
      "Processed 97000 spectra in 16.31 minutes (0.010 sec per object)\n",
      "Valid spectra: 96546 out of 97000\n",
      "> Estimated remaining time: >> 4.36 minutes << for 25902 objects\n",
      "Processed 98000 spectra in 16.43 minutes (0.010 sec per object)\n",
      "Valid spectra: 97539 out of 98000\n",
      "> Estimated remaining time: >> 4.18 minutes << for 24902 objects\n",
      "Processed 99000 spectra in 16.55 minutes (0.010 sec per object)\n",
      "Valid spectra: 98521 out of 99000\n",
      "> Estimated remaining time: >> 4.00 minutes << for 23902 objects\n",
      "Processed 100000 spectra in 16.68 minutes (0.010 sec per object)\n",
      "Valid spectra: 99501 out of 100000\n",
      "> Estimated remaining time: >> 3.82 minutes << for 22902 objects\n",
      "Processed 102000 spectra in 16.92 minutes (0.010 sec per object)\n",
      "Valid spectra: 101474 out of 102000\n",
      "> Estimated remaining time: >> 3.47 minutes << for 20902 objects\n",
      "Processed 103000 spectra in 17.04 minutes (0.010 sec per object)\n",
      "Valid spectra: 102463 out of 103000\n",
      "> Estimated remaining time: >> 3.29 minutes << for 19902 objects\n",
      "Processed 104000 spectra in 17.16 minutes (0.010 sec per object)\n",
      "Valid spectra: 103454 out of 104000\n",
      "> Estimated remaining time: >> 3.12 minutes << for 18902 objects\n"
     ]
    },
    {
     "name": "stdout",
     "output_type": "stream",
     "text": [
      "Processed 105000 spectra in 17.31 minutes (0.010 sec per object)\n",
      "Valid spectra: 104437 out of 105000\n",
      "> Estimated remaining time: >> 2.95 minutes << for 17902 objects\n",
      "Processed 106000 spectra in 17.50 minutes (0.010 sec per object)\n",
      "Valid spectra: 105420 out of 106000\n",
      "> Estimated remaining time: >> 2.79 minutes << for 16902 objects\n",
      "Processed 107000 spectra in 17.72 minutes (0.010 sec per object)\n",
      "Valid spectra: 106418 out of 107000\n",
      "> Estimated remaining time: >> 2.63 minutes << for 15902 objects\n",
      "Processed 108000 spectra in 17.94 minutes (0.010 sec per object)\n",
      "Valid spectra: 107418 out of 108000\n",
      "> Estimated remaining time: >> 2.47 minutes << for 14902 objects\n",
      "Processed 109000 spectra in 18.16 minutes (0.010 sec per object)\n",
      "Valid spectra: 108416 out of 109000\n",
      "> Estimated remaining time: >> 2.32 minutes << for 13902 objects\n",
      "Processed 110000 spectra in 18.37 minutes (0.010 sec per object)\n",
      "Valid spectra: 109414 out of 110000\n",
      "> Estimated remaining time: >> 2.15 minutes << for 12902 objects\n",
      "Processed 111000 spectra in 18.58 minutes (0.010 sec per object)\n",
      "Valid spectra: 110412 out of 111000\n",
      "> Estimated remaining time: >> 1.99 minutes << for 11902 objects\n",
      "Processed 112000 spectra in 18.80 minutes (0.010 sec per object)\n",
      "Valid spectra: 111407 out of 112000\n",
      "> Estimated remaining time: >> 1.83 minutes << for 10902 objects\n",
      "Processed 113000 spectra in 19.02 minutes (0.010 sec per object)\n",
      "Valid spectra: 112406 out of 113000\n",
      "> Estimated remaining time: >> 1.67 minutes << for 9902 objects\n",
      "Processed 114000 spectra in 19.24 minutes (0.010 sec per object)\n",
      "Valid spectra: 113404 out of 114000\n",
      "> Estimated remaining time: >> 1.50 minutes << for 8902 objects\n",
      "Processed 115000 spectra in 19.46 minutes (0.010 sec per object)\n",
      "Valid spectra: 114403 out of 115000\n",
      "> Estimated remaining time: >> 1.34 minutes << for 7902 objects\n",
      "Processed 116000 spectra in 19.64 minutes (0.010 sec per object)\n",
      "Valid spectra: 115401 out of 116000\n",
      "> Estimated remaining time: >> 1.17 minutes << for 6902 objects\n",
      "Processed 117000 spectra in 19.75 minutes (0.010 sec per object)\n",
      "Valid spectra: 116398 out of 117000\n",
      "> Estimated remaining time: >> 1.00 minutes << for 5902 objects\n",
      "Processed 118000 spectra in 19.92 minutes (0.010 sec per object)\n",
      "Valid spectra: 117395 out of 118000\n",
      "> Estimated remaining time: >> 0.83 minutes << for 4902 objects\n",
      "Processed 119000 spectra in 20.14 minutes (0.010 sec per object)\n",
      "Valid spectra: 118395 out of 119000\n",
      "> Estimated remaining time: >> 0.66 minutes << for 3902 objects\n",
      "Processed 120000 spectra in 20.34 minutes (0.010 sec per object)\n",
      "Valid spectra: 119392 out of 120000\n",
      "> Estimated remaining time: >> 0.49 minutes << for 2902 objects\n",
      "Processed 121000 spectra in 20.56 minutes (0.010 sec per object)\n",
      "Valid spectra: 120386 out of 121000\n",
      "> Estimated remaining time: >> 0.32 minutes << for 1902 objects\n",
      "Processed 122000 spectra in 20.78 minutes (0.010 sec per object)\n",
      "Valid spectra: 121385 out of 122000\n",
      "> Estimated remaining time: >> 0.15 minutes << for 902 objects\n"
     ]
    }
   ],
   "source": [
    "transfer_redshift_grid,\\\n",
    "    processed_indices, processed_redshifts, processed_spec, processed_spec_ivar,\\\n",
    "    processed_spec_off, processed_index_transfer_redshift, processed_index_wave,\\\n",
    "    n_valid_pixels, n_valid_pixels_orig, chi2s_sdss =\\\n",
    "        loop(\n",
    "            indices, fulldata, fullroot, new_logwave_rest_centers,\n",
    "            logwavegrid_z, correct_for_extinction=correct_for_extinction,\n",
    "            min_valid_pixels = 1000,\n",
    "            )"
   ]
  },
  {
   "cell_type": "code",
   "execution_count": 38,
   "metadata": {},
   "outputs": [
    {
     "data": {
      "text/plain": [
       "122283"
      ]
     },
     "execution_count": 38,
     "metadata": {},
     "output_type": "execute_result"
    }
   ],
   "source": [
    "processed_indices.size"
   ]
  },
  {
   "cell_type": "code",
   "execution_count": 39,
   "metadata": {},
   "outputs": [
    {
     "data": {
      "image/png": "[encoded data removed]",
      "text/plain": [
       "<Figure size 720x216 with 3 Axes>"
      ]
     },
     "metadata": {
      "needs_background": "light"
     },
     "output_type": "display_data"
    }
   ],
   "source": [
    "fig, axs = plt.subplots(1, 3, figsize=(10, 3))\n",
    "axs[0].hist(n_valid_pixels, log=True)\n",
    "axs[1].hist(n_valid_pixels_orig - n_valid_pixels, log=True)\n",
    "axs[2].hist(chi2s_sdss / n_valid_pixels, log=True)\n",
    "fig.tight_layout()"
   ]
  },
  {
   "cell_type": "code",
   "execution_count": 40,
   "metadata": {},
   "outputs": [],
   "source": [
    "# need to differenciate between masked values and truncated array."
   ]
  },
  {
   "cell_type": "code",
   "execution_count": 41,
   "metadata": {
    "scrolled": true
   },
   "outputs": [
    {
     "data": {
      "text/plain": [
       "array(['specObjID', 'mjd', 'plate', 'tile', 'fiberID', 'z', 'zErr',\n",
       "       'class', 'subClass', 'zWarning', 'ra', 'dec', 'cx', 'cy', 'cz',\n",
       "       'htmID', 'sciencePrimary', 'legacyPrimary', 'seguePrimary',\n",
       "       'segue1Primary', 'segue2Primary', 'bossPrimary', 'sdssPrimary',\n",
       "       'survey', 'programname', 'legacy_target1', 'legacy_target2',\n",
       "       'special_target1', 'special_target2', 'segue1_target1',\n",
       "       'segue1_target2', 'segue2_target1', 'segue2_target2',\n",
       "       'boss_target1', 'ancillary_target1', 'ancillary_target2',\n",
       "       'plateID', 'sourceType', 'targetObjID', 'objID', 'skyVersion',\n",
       "       'run', 'rerun', 'camcol', 'field', 'obj', 'mode', 'nChild', 'type',\n",
       "       'flags', 'psfMag_u', 'psfMag_g', 'psfMag_r', 'psfMag_i',\n",
       "       'psfMag_z', 'psfMagErr_u', 'psfMagErr_g', 'psfMagErr_r',\n",
       "       'psfMagErr_i', 'psfMagErr_z', 'fiberMag_u', 'fiberMag_g',\n",
       "       'fiberMag_r', 'fiberMag_i', 'fiberMag_z', 'fiberMagErr_u',\n",
       "       'fiberMagErr_g', 'fiberMagErr_r', 'fiberMagErr_i', 'fiberMagErr_z',\n",
       "       'petroMag_u', 'petroMag_g', 'petroMag_r', 'petroMag_i',\n",
       "       'petroMag_z', 'petroMagErr_u', 'petroMagErr_g', 'petroMagErr_r',\n",
       "       'petroMagErr_i', 'petroMagErr_z', 'modelMag_u', 'modelMag_g',\n",
       "       'modelMag_r', 'modelMag_i', 'modelMag_z', 'modelMagErr_u',\n",
       "       'modelMagErr_g', 'modelMagErr_r', 'modelMagErr_i', 'modelMagErr_z',\n",
       "       'cModelMag_u', 'cModelMag_g', 'cModelMag_r', 'cModelMag_i',\n",
       "       'cModelMag_z', 'cModelMagErr_u', 'cModelMagErr_g',\n",
       "       'cModelMagErr_r', 'cModelMagErr_i', 'cModelMagErr_z', 'mRrCc_r',\n",
       "       'mRrCcErr_r', 'score', 'resolveStatus', 'calibStatus_u',\n",
       "       'calibStatus_g', 'calibStatus_r', 'calibStatus_i', 'calibStatus_z',\n",
       "       'photoRa', 'photoDec', 'extinction_u', 'extinction_g',\n",
       "       'extinction_r', 'extinction_i', 'extinction_z', 'fieldID',\n",
       "       'dered_u', 'dered_g', 'dered_r', 'dered_i', 'dered_z', 'Column1',\n",
       "       'Column2', 'Column3', 'PLATE', 'FIBERID', 'MJD', 'BESTOBJID', 'Zr',\n",
       "       'FIBER', 'IsBest', 'OBJID_TARGETING', 'EBV', 'Z'], dtype=object)"
      ]
     },
     "execution_count": 41,
     "metadata": {},
     "output_type": "execute_result"
    }
   ],
   "source": [
    "np.array(fulldata.columns)"
   ]
  },
  {
   "cell_type": "code",
   "execution_count": 42,
   "metadata": {},
   "outputs": [],
   "source": [
    "fluxes = fluxes[processed_indices, :]\n",
    "fluxErrs = fluxErrs[processed_indices, :] # restrict to processed spectra \n",
    "flux_ivars = fluxErrs ** -0.5"
   ]
  },
  {
   "cell_type": "code",
   "execution_count": 43,
   "metadata": {},
   "outputs": [
    {
     "data": {
      "text/plain": [
       "<matplotlib.legend.Legend at 0x7fc4938e0730>"
      ]
     },
     "execution_count": 43,
     "metadata": {},
     "output_type": "execute_result"
    },
    {
     "data": {
      "image/png": "[encoded data removed]",
      "text/plain": [
       "<Figure size 432x288 with 1 Axes>"
      ]
     },
     "metadata": {
      "needs_background": "light"
     },
     "output_type": "display_data"
    }
   ],
   "source": [
    "for i, b in enumerate(['u', 'g', 'r', 'i', 'z']):\n",
    "    plt.hist(np.log10(fluxes[:, i]/fluxErrs[:, i]), label='SNR in '+b+' band', \n",
    "             histtype='step', range=[-2, 2], lw=2, bins=20+i);\n",
    "plt.legend(loc='upper left')"
   ]
  },
  {
   "cell_type": "code",
   "execution_count": 44,
   "metadata": {},
   "outputs": [
    {
     "name": "stdout",
     "output_type": "stream",
     "text": [
      "[3561.8199999999993, 4718.8363303870765, 6185.017045719891, 7500.492347873901, 8961.265536723164]\n",
      "[192.41262738954364, 388.3271263492239, 343.86345175039276, 381.77074669202733, 525.0183559867379]\n"
     ]
    }
   ],
   "source": [
    "# process filters and create transfer function\n",
    "\n",
    "from sedpy import observate # TODO: replace with gasp routines\n",
    "\n",
    "filternames = [\"sdss_\" + b +'0' for b in ['u', 'g', 'r', 'i', 'z']]\n",
    "filterdir = \"/home/bl/Dropbox/repos/sedpy/sedpy/data/filters\"\n",
    "filt_list = observate.load_filters(filternames, directory=filterdir)\n",
    "\n",
    "lam_phot_eff = []\n",
    "lam_phot_size_eff = []\n",
    "for filt in filt_list:\n",
    "    x, y = filt.wavelength, filt.transmission\n",
    "    mn = np.average(x, weights=y)\n",
    "    lam_phot_eff.append(mn)\n",
    "    lam_phot_size_eff.append(np.average((x-mn)**2.0, weights=y)**0.5)\n",
    "    \n",
    "print(lam_phot_eff)\n",
    "print(lam_phot_size_eff)\n",
    "\n",
    "# convert from 1e-17 cgs to nanomaggies in AB system\n",
    "unit_spec = 1e-17\n",
    "unit_phot = 1e-9 * 3631\n",
    "unit_change = unit_phot / unit_spec\n",
    "\n",
    "wave_rest_interp = 10**new_logwave_rest_centers\n",
    "\n",
    "transfermatrix_phot, redshift_factors = \\\n",
    "    build_restframe_photometric_transferfunction(transfer_redshift_grid, wave_rest_interp, filt_list, f_lambda=True)\n",
    "\n",
    "transfermatrix_phot *= unit_change #* redshift_factors[:, None, None]"
   ]
  },
  {
   "cell_type": "code",
   "execution_count": 45,
   "metadata": {},
   "outputs": [
    {
     "name": "stdout",
     "output_type": "stream",
     "text": [
      "Size of training before search: 99669\n",
      "Size of training after search:  91936\n",
      "Size of validation before search: 30559\n",
      "Size of validation after search:  30346\n"
     ]
    }
   ],
   "source": [
    "input_dir = '/home/bl/Dropbox/repos/spectro-photometric-pca/data/dr16eboss/'\n",
    "\n",
    "indices_train_found = np.where(np.in1d(processed_indices, indices_train))[0]\n",
    "indices_valid_found = np.where(np.in1d(processed_indices, indices_valid))[0]\n",
    "# filter based on what were found!\n",
    "np.save(input_dir + \"/indices_train\", indices_train_found)\n",
    "np.save(input_dir + \"/indices_valid\", indices_valid_found)\n",
    "print(\"Size of training before search:\", indices_train.size)\n",
    "print(\"Size of training after search: \", indices_train_found.size)\n",
    "print(\"Size of validation before search:\", indices_valid.size)\n",
    "print(\"Size of validation after search: \", indices_valid_found.size)"
   ]
  },
  {
   "cell_type": "code",
   "execution_count": 46,
   "metadata": {},
   "outputs": [
    {
     "data": {
      "text/plain": [
       "(91937, 122282, (122283, 4700))"
      ]
     },
     "execution_count": 46,
     "metadata": {},
     "output_type": "execute_result"
    }
   ],
   "source": [
    "np.min(indices_valid_found), np.max(indices_valid_found), processed_spec.shape"
   ]
  },
  {
   "cell_type": "code",
   "execution_count": 47,
   "metadata": {},
   "outputs": [
    {
     "name": "stdout",
     "output_type": "stream",
     "text": [
      "saved transferfunctions\n",
      "saved seds\n",
      "saved photometry\n",
      "all done\n"
     ]
    }
   ],
   "source": [
    "save_spectrophotometry(\n",
    "    input_dir,\n",
    "    processed_redshifts, lamspec_waveoffset, \n",
    "    processed_index_wave, processed_index_transfer_redshift,\n",
    "    wave_rest_interp, lam_phot_eff, lam_phot_size_eff, \n",
    "    transfermatrix_phot, transfer_redshift_grid,\n",
    "    processed_spec, processed_spec_off, processed_spec_ivar, chi2s_sdss, \n",
    "    fluxes, flux_ivars\n",
    ")"
   ]
  },
  {
   "cell_type": "code",
   "execution_count": 52,
   "metadata": {},
   "outputs": [],
   "source": [
    "fulldata.iloc[processed_indices].to_csv('/home/bl/Dropbox/repos/spectro-photometric-pca/data/dr16eboss/fulldata.csv')"
   ]
  },
  {
   "cell_type": "code",
   "execution_count": null,
   "metadata": {},
   "outputs": [],
   "source": [
    "%pwd"
   ]
  },
  {
   "cell_type": "code",
   "execution_count": null,
   "metadata": {},
   "outputs": [],
   "source": [
    "# Find which observations are repeated ones \n",
    "# and store pairs of indices so that dv can easily be calculated.\n"
   ]
  }
 ],
 "metadata": {
  "kernelspec": {
   "display_name": "Python 3",
   "language": "python",
   "name": "python3"
  },
  "language_info": {
   "codemirror_mode": {
    "name": "ipython",
    "version": 3
   },
   "file_extension": ".py",
   "mimetype": "text/x-python",
   "name": "python",
   "nbconvert_exporter": "python",
   "pygments_lexer": "ipython3",
   "version": "3.8.5"
  }
 },
 "nbformat": 4,
 "nbformat_minor": 4
}
